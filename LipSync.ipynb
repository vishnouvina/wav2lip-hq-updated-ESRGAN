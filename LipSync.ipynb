{
  "cells": [
    {
      "cell_type": "markdown",
      "metadata": {
        "id": "view-in-github"
      },
      "source": [
        "<a href=\"https://colab.research.google.com/github/manavtech07/LipSync/blob/main/LipSync.ipynb\" target=\"_parent\"><img src=\"https://colab.research.google.com/assets/colab-badge.svg\" alt=\"Open In Colab\"/></a>"
      ]
    },
    {
      "cell_type": "markdown",
      "metadata": {
        "id": "fkoF-mm8CGfB"
      },
      "source": [
        "# LIP-SYNCING USING Wav2Lip\n",
        "\n",
        "Github: https://github.com/Rudrabha/Wav2Lip\n",
        "\n",
        "Github: https://github.com/Markfryazino/wav2lip-hq"
      ]
    },
    {
      "cell_type": "markdown",
      "metadata": {
        "id": "5uJWURePONLd"
      },
      "source": [
        "## First of all, clone the repository and load all required models."
      ]
    },
    {
      "cell_type": "code",
      "execution_count": null,
      "metadata": {
        "colab": {
          "base_uri": "https://localhost:8080/"
        },
        "collapsed": true,
        "id": "Lb6Q78lTNeSj",
        "outputId": "72fcb652-39ba-4bb3-88b9-33bded58dbe6"
      },
      "outputs": [],
      "source": [
        "!git clone https://github.com/GucciFlipFlops1917/wav2lip-hq-updated-ESRGAN\n",
        "# !git clone https://github.com/Markfryazino/wav2lip-hq\n",
        "%cd wav2lip-hq-updated-ESRGAN/\n",
        "!pip3 install gdown\n",
        "!pip3 install -r requirements.txt"
      ]
    },
    {
      "cell_type": "code",
      "execution_count": null,
      "metadata": {
        "colab": {
          "base_uri": "https://localhost:8080/"
        },
        "id": "Jo3vWw7JBlBX",
        "outputId": "c0f2d2b7-5f1e-4f99-fb5c-a3e2166de765"
      },
      "outputs": [],
      "source": [
        "!wget \"https://www.adrianbulat.com/downloads/python-fan/s3fd-619a316812.pth\" -O \"face_detection/detection/sfd/s3fd.pth\""
      ]
    },
    {
      "cell_type": "code",
      "execution_count": null,
      "metadata": {
        "colab": {
          "base_uri": "https://localhost:8080/"
        },
        "collapsed": true,
        "id": "QVsEutehZr5y",
        "outputId": "fce48ce0-e237-4e63-c7a3-b0904aeb4e9c"
      },
      "outputs": [],
      "source": [
        "!pip install -r \"/content/requirements.txt\""
      ]
    },
    {
      "cell_type": "code",
      "execution_count": null,
      "metadata": {
        "colab": {
          "base_uri": "https://localhost:8080/"
        },
        "id": "xIWAdT5EZ68q",
        "outputId": "9c921d74-9242-4688-d4d7-b4a43deed369"
      },
      "outputs": [],
      "source": [
        "import torchvision\n",
        "print(torchvision.__version__)"
      ]
    },
    {
      "cell_type": "markdown",
      "metadata": {
        "id": "eWdPyvE99TJU"
      },
      "source": [
        "##Now upload wav2lip, ersgan and and other paths"
      ]
    },
    {
      "cell_type": "code",
      "execution_count": null,
      "metadata": {
        "colab": {
          "base_uri": "https://localhost:8080/"
        },
        "id": "H7J5GnO7PjYo",
        "outputId": "41f5efa8-6695-4460-9af6-9eaffd95a323"
      },
      "outputs": [],
      "source": [
        "import gdown\n",
        "\n",
        "urls = {\n",
        "    \"wav2lip_gan.pth\": \"10Iu05Modfti3pDbxCFPnofmfVlbkvrCm\",\n",
        "    \"face_segmentation.pth\": \"154JgKpzCPW82qINcVieuPH3fZ2e0P812\",\n",
        "    \"esrgan_max.pth\": \"1e5LT83YckB5wFKXWV4cWOPkVRnCDmvwQ\",\n",
        "    \"pretrained_state.pth\": \"1_MGeOLdARWHylC1PCU2p5_FQztD4Bo7B\"\n",
        "}\n",
        "\n",
        "for name, id in urls.items():\n",
        "    url = f\"https://drive.google.com/uc?id={id}\"\n",
        "    output = f\"checkpoints/{name}\"\n",
        "    gdown.download(url, output, quiet=False)\n",
        "    print(f\"Loaded {name}\")"
      ]
    },
    {
      "cell_type": "markdown",
      "metadata": {
        "id": "jUyqAPGwRcGj"
      },
      "source": [
        "## Now upload target audio and video.\n",
        "\n",
        "Uploading it from drive, it's quick"
      ]
    },
    {
      "cell_type": "code",
      "execution_count": null,
      "metadata": {
        "id": "YkSRYUV-RTF9"
      },
      "outputs": [],
      "source": [
        "# If you load files from Drive, run this cell\n",
        "\n",
        "# Paste your filenames and Google Drive IDs below.\n",
        "urls = {\n",
        "    \"test_vid.mp4\": \"1-2SvaI0aQGuZG69uz3CQ_xJcnhQg2fIg\",\n",
        "    \"input_audio.wav\": \"1W4-nfO6M4mGsR5kLBs8Jmc88Voz4QHld\",\n",
        "}\n",
        "\n",
        "for name, id in urls.items():\n",
        "    url = f\"https://drive.google.com/uc?id={id}\"\n",
        "    output = f\"videos/{name}\"\n",
        "    gdown.download(url, output, quiet=False)\n",
        "    print(f\"Loaded {name}\")"
      ]
    },
    {
      "cell_type": "code",
      "execution_count": null,
      "metadata": {
        "id": "_iq42I8dZNDZ"
      },
      "outputs": [],
      "source": [
        "inp_vid ="
      ]
    },
    {
      "cell_type": "markdown",
      "metadata": {
        "id": "XbnJuC8_BJt3"
      },
      "source": [
        "##Optional"
      ]
    },
    {
      "cell_type": "code",
      "execution_count": null,
      "metadata": {
        "id": "NMGk3C6GSFiJ"
      },
      "outputs": [],
      "source": [
        "urls = {\n",
        "    \"4x_BigFace_v3_Blend.pth\": \"1ptCMB1ffepKhHyMLuSkn09Lcor2Rxmhw\",\n",
        "    \"4x_BigFace_v3_Clear.pth\": \"1alSiavaCLehF_E1fEh7K3H1gLkJboLwL\",\n",
        "    \"4x_BigFace_v3.pth\": \"17Fw30311ZLwxbjb-Ofp7EEMcWYT2gVNN\",\n",
        "    \"4x_BigFace.pth\": \"1cloUfyTVPdVJKlp_BYOjE4R6vMfjk43f\"\n",
        "}\n",
        "for name, id in urls.items():\n",
        "    url = f\"https://drive.google.com/uc?id={id}\"\n",
        "    output = f\"checkpoints/{name}\"\n",
        "    gdown.download(url, output, quiet=False)\n",
        "    print(f\"Loaded {name}\")"
      ]
    },
    {
      "cell_type": "markdown",
      "metadata": {
        "id": "U9WRj2KBVojD"
      },
      "source": [
        "## Finally, run the model!\n",
        "after running download the results from 'results/output.mp4'"
      ]
    },
    {
      "cell_type": "code",
      "execution_count": null,
      "metadata": {
        "colab": {
          "base_uri": "https://localhost:8080/"
        },
        "collapsed": true,
        "id": "8exZu0k0TZe6",
        "outputId": "cd2ee424-72d3-4962-cccd-3a65dc149800"
      },
      "outputs": [],
      "source": [
        "!pip3 install gfpgan\n",
        "!pip3 install realesrgan\n",
        "!pip3 install librosa==0.9.1"
      ]
    },
    {
      "cell_type": "code",
      "execution_count": null,
      "metadata": {
        "colab": {
          "base_uri": "https://localhost:8080/"
        },
        "id": "upzbvGOmVnJT",
        "outputId": "952dc7c0-0645-47f0-bfcf-05b91dd0f605"
      },
      "outputs": [],
      "source": [
        "!python inference.py \\\n",
        "        --checkpoint_path \"checkpoints/wav2lip_gan.pth\" \\\n",
        "        --segmentation_path \"checkpoints/face_segmentation.pth\" \\\n",
        "        --enhance_face gfpgan \\\n",
        "        --face \"/content/trump.mp4\" \\\n",
        "        --audio \"/content/audio.wav\" \\\n",
        "        --outfile \"results/output.mp4\""
      ]
    },
    {
      "cell_type": "code",
      "execution_count": null,
      "metadata": {
        "colab": {
          "base_uri": "https://localhost:8080/"
        },
        "id": "EHK0kWOzZcHK",
        "outputId": "af4cbeb9-812c-471d-f89e-99fbd59ca928"
      },
      "outputs": [],
      "source": [
        "python inference.py \\\n",
        "        --checkpoint_path \"checkpoints/wav2lip_gan.pth\" \\\n",
        "        --segmentation_path \"checkpoints/face_segmentation.pth\" \\\n",
        "        --no_sr \\\n",
        "        --face \"/media/volume/vishnou-xl/wav2lip-hq-updated-ESRGAN/videos/trump_1_muted.mp4\" \\\n",
        "        --audio \"/media/volume/vishnou-xl/wav2lip-hq-updated-ESRGAN/audios/trump_1_generated.wav\" \\\n",
        "        --outfile \"results/trump_1_unmuted.mp4\""
      ]
    },
    {
      "cell_type": "code",
      "execution_count": null,
      "metadata": {
        "id": "yRIW-S7Nf6rr"
      },
      "outputs": [],
      "source": [
        "python inference.py \\\n",
        "        --no_sr \\\n",
        "        --face \"/media/volume/vishnou-xl/wav2lip-hq-updated-ESRGAN/videos/trudeau_3_muted.mp4\" \\\n",
        "        --audio \"/media/volume/vishnou-xl/wav2lip-hq-updated-ESRGAN/audios/trudeau_3_generated.wav\" \\\n",
        "        --outfile \"results/trudeau_3_unmuted.mp4\""
      ]
    }
  ],
  "metadata": {
    "colab": {
      "provenance": []
    },
    "kernelspec": {
      "display_name": "Python 3",
      "name": "python3"
    },
    "language_info": {
      "name": "python"
    }
  },
  "nbformat": 4,
  "nbformat_minor": 0
}
